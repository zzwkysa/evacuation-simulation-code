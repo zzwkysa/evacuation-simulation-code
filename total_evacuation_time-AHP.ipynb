{
 "cells": [
  {
   "cell_type": "code",
   "execution_count": 1,
   "id": "4ececac2-9878-4234-b4f1-1bf9fef9655b",
   "metadata": {},
   "outputs": [],
   "source": [
    "import pandas as pd\n",
    "import numpy as np\n",
    "from sklearn.model_selection import train_test_split, GridSearchCV\n",
    "from sklearn.metrics import mean_squared_error\n",
    "from sklearn.ensemble import RandomForestRegressor, GradientBoostingRegressor, AdaBoostRegressor\n",
    "from sklearn.tree import DecisionTreeRegressor\n",
    "from sklearn.svm import SVR\n",
    "from sklearn.neural_network import MLPRegressor\n",
    "from sklearn.linear_model import LinearRegression\n",
    "from xgboost import XGBRegressor\n",
    "from lightgbm import LGBMRegressor\n",
    "import matplotlib.pyplot as plt\n",
    "import time\n",
    "\n",
    "# 自定义 MAPE 和 sMAPE 计算函数\n",
    "def mean_absolute_percentage_error(y_true, y_pred):\n",
    "    return np.mean(np.abs((y_true - y_pred) / y_true)) * 100\n",
    "\n",
    "def symmetric_mean_absolute_percentage_error(y_true, y_pred):\n",
    "    return 100 * np.mean(2 * np.abs(y_pred - y_true) / (np.abs(y_pred) + np.abs(y_true)))\n",
    "\n",
    "# 加载数据\n",
    "def load_data(file_path, target_column):\n",
    "    df = pd.read_excel(file_path)\n",
    "    X = df.drop(columns=[target_column])\n",
    "    y = df[target_column]\n",
    "    X = pd.get_dummies(X)  # 处理类别变量\n",
    "    return X, y\n",
    "\n",
    "# 划分数据集\n",
    "def split_data(X, y):\n",
    "    X_train_full, X_test, y_train_full, y_test = train_test_split(X, y, test_size=0.2, random_state=42)\n",
    "    X_train, X_val, y_train, y_val = train_test_split(X_train_full, y_train_full, test_size=0.25, random_state=42)\n",
    "    return X_train, X_val, X_test, y_train, y_val, y_test\n",
    "\n",
    "\n",
    "# 模型评估函数，返回评估指标\n",
    "def evaluate_model(model, X_train, y_train, X_val, y_val, X_test, y_test, model_name, param_grid=None):\n",
    "    if param_grid:\n",
    "        # 超参数调优\n",
    "        grid_search = GridSearchCV(estimator=model, param_grid=param_grid, cv=5, scoring='neg_mean_squared_error')\n",
    "        grid_search.fit(X_train, y_train)\n",
    "        best_model = grid_search.best_estimator_\n",
    "        print(f\"Best parameters for {model_name}: {grid_search.best_params_}\")\n",
    "    else:\n",
    "        best_model = model\n",
    "        best_model.fit(X_train, y_train)\n",
    "    \n",
    "    # 测量推理时间\n",
    "    start_time = time.time()\n",
    "    test_preds = best_model.predict(X_test)\n",
    "    end_time = time.time()\n",
    "    \n",
    "    # 计算推理时间和吞吐量\n",
    "    inference_time = end_time - start_time\n",
    "    throughput = len(X_test) / inference_time\n",
    "\n",
    "    # 计算评估指标\n",
    "    mse = mean_squared_error(y_test, test_preds)\n",
    "    mape = mean_absolute_percentage_error(y_test, test_preds)\n",
    "    smape = symmetric_mean_absolute_percentage_error(y_test, test_preds)\n",
    "\n",
    "    # 返回模型的评估指标\n",
    "   \n",
    "\n",
    "    # 输出结果\n",
    "    print(f\"{model_name} Performance on Test Set:\")\n",
    "    print(f\"Mean Squared Error (MSE): {mse}\")\n",
    "    print(f\"Mean Absolute Percentage Error (MAPE): {mape}%\")\n",
    "    print(f\"Symmetric Mean Absolute Percentage Error (sMAPE): {smape}%\")\n",
    "    \n",
    "    # 输出推理时间和吞吐量\n",
    "    print(f\"Inference Time: {inference_time} seconds\")\n",
    "    print(f\"Throughput: {throughput} samples/second\")\n",
    "\n",
    "    return test_preds,mse,mape,smape,inference_time,throughput\n",
    "\n",
    "\n",
    "\n",
    "\n",
    "\n",
    "\n",
    "   \n"
   ]
  },
  {
   "cell_type": "code",
   "execution_count": 2,
   "id": "b88a0a2c-a62a-4b88-9272-5576ace01f34",
   "metadata": {},
   "outputs": [],
   "source": [
    "# 数据路径和目标列\n",
    "data_path = 'D:/疏散数据汇总/疏散时间.xlsx'  # 请根据你的路径调整\n",
    "target_column = 'Total evacuation time for 95% of evacuees'\n",
    "\n",
    "# 加载并划分数据\n",
    "X, y = load_data(data_path, target_column)\n",
    "X_train, X_val, X_test, y_train, y_val, y_test = split_data(X, y)"
   ]
  },
  {
   "cell_type": "markdown",
   "id": "e4bbc4e2-00f2-436d-b9ca-12007929bf07",
   "metadata": {},
   "source": [
    "随机森林"
   ]
  },
  {
   "cell_type": "code",
   "execution_count": 3,
   "id": "3c71eff4-b830-489c-90cb-578c9f011626",
   "metadata": {},
   "outputs": [
    {
     "name": "stdout",
     "output_type": "stream",
     "text": [
      "RandomForest Performance on Test Set:\n",
      "Mean Squared Error (MSE): 7232.968442124467\n",
      "Mean Absolute Percentage Error (MAPE): 11.553346580949626%\n",
      "Symmetric Mean Absolute Percentage Error (sMAPE): 11.278411611890347%\n",
      "Inference Time: 0.00899052619934082 seconds\n",
      "Throughput: 48050.58017979793 samples/second\n"
     ]
    }
   ],
   "source": [
    "# 定义模型和参数\n",
    "rf_model = RandomForestRegressor(random_state=42,n_estimators=100,max_depth=10,min_samples_leaf=1,min_samples_split=2 )\n",
    "\n",
    "# 评估随机森林模型\n",
    "rf_preds = evaluate_model(rf_model, X_train, y_train, X_val, y_val, X_test, y_test, 'RandomForest')\n"
   ]
  },
  {
   "cell_type": "code",
   "execution_count": 4,
   "id": "df178a81-66fc-44d3-b782-fcfd886f9715",
   "metadata": {},
   "outputs": [
    {
     "data": {
      "text/plain": [
       "(7232.968442124467,\n",
       " 11.553346580949626,\n",
       " 11.278411611890347,\n",
       " 0.00899052619934082)"
      ]
     },
     "execution_count": 4,
     "metadata": {},
     "output_type": "execute_result"
    }
   ],
   "source": [
    "rf_preds[1:-1]"
   ]
  },
  {
   "cell_type": "markdown",
   "id": "542d5c40-2797-4362-b8b7-1fc5bd4fba1a",
   "metadata": {},
   "source": [
    "xgboost"
   ]
  },
  {
   "cell_type": "code",
   "execution_count": 5,
   "id": "a43d2026-158b-4c2b-9163-c45360f226c8",
   "metadata": {},
   "outputs": [
    {
     "name": "stdout",
     "output_type": "stream",
     "text": [
      "XGBoost Performance on Test Set:\n",
      "Mean Squared Error (MSE): 6174.6646275039875\n",
      "Mean Absolute Percentage Error (MAPE): 9.917478903269085%\n",
      "Symmetric Mean Absolute Percentage Error (sMAPE): 9.785413484736171%\n",
      "Inference Time: 0.003999948501586914 seconds\n",
      "Throughput: 108001.39047505513 samples/second\n"
     ]
    }
   ],
   "source": [
    "# 定义模型和参数\n",
    "xgb_model = XGBRegressor(random_state=42,learning_rate= 0.05, max_depth= 3, n_estimators= 200)\n",
    "\n",
    "# 评估XGBoost模型\n",
    "xgb_preds = evaluate_model(xgb_model, X_train, y_train, X_val, y_val, X_test, y_test, 'XGBoost')\n"
   ]
  },
  {
   "cell_type": "markdown",
   "id": "bc581e01-4a0c-4883-842c-69b7babfa5f6",
   "metadata": {},
   "source": [
    "LightGBM"
   ]
  },
  {
   "cell_type": "code",
   "execution_count": 6,
   "id": "6e466ede-70f3-4c68-9cfd-e2f0ca6c1ce0",
   "metadata": {},
   "outputs": [
    {
     "name": "stdout",
     "output_type": "stream",
     "text": [
      "[LightGBM] [Warning] Found whitespace in feature_names, replace with underlines\n",
      "[LightGBM] [Info] Auto-choosing row-wise multi-threading, the overhead of testing was 0.000225 seconds.\n",
      "You can set `force_row_wise=true` to remove the overhead.\n",
      "And if memory is not enough, you can set `force_col_wise=true`.\n",
      "[LightGBM] [Info] Total Bins 30\n",
      "[LightGBM] [Info] Number of data points in the train set: 1296, number of used features: 6\n",
      "[LightGBM] [Info] Start training from score 455.633022\n",
      "LightGBM Performance on Test Set:\n",
      "Mean Squared Error (MSE): 6332.062295648927\n",
      "Mean Absolute Percentage Error (MAPE): 9.817051977704788%\n",
      "Symmetric Mean Absolute Percentage Error (sMAPE): 9.660965377374433%\n",
      "Inference Time: 0.0010390281677246094 seconds\n",
      "Throughput: 415773.13630105555 samples/second\n"
     ]
    }
   ],
   "source": [
    "# 定义模型和参数\n",
    "lgbm_model = LGBMRegressor(random_state=42,learning_rate= 0.05, n_estimators=200, num_leaves= 20)\n",
    "lgbm_param_grid = [\n",
    "    {'n_estimators': [100, 200], 'num_leaves': [20, 31], 'learning_rate': [0.05, 0.1]}\n",
    "]\n",
    "\n",
    "# 评估LightGBM模型\n",
    "lgbm_preds = evaluate_model(lgbm_model, X_train, y_train, X_val, y_val, X_test, y_test, 'LightGBM')\n"
   ]
  },
  {
   "cell_type": "markdown",
   "id": "1becb245-6903-495c-857a-73798ece6a17",
   "metadata": {},
   "source": [
    "GBDT"
   ]
  },
  {
   "cell_type": "code",
   "execution_count": 9,
   "id": "39dd408c-352a-4743-b924-a5c904886b1f",
   "metadata": {},
   "outputs": [
    {
     "name": "stdout",
     "output_type": "stream",
     "text": [
      "GBDT Performance on Test Set:\n",
      "Mean Squared Error (MSE): 6032.521844158449\n",
      "Mean Absolute Percentage Error (MAPE): 9.838344764250579%\n",
      "Symmetric Mean Absolute Percentage Error (sMAPE): 9.694712596360132%\n",
      "Inference Time: 0.0034682750701904297 seconds\n",
      "Throughput: 124557.59455557847 samples/second\n"
     ]
    }
   ],
   "source": [
    "# 定义模型和参数\n",
    "gbdt_model = GradientBoostingRegressor(random_state=42,learning_rate=0.1, max_depth= 3, n_estimators= 100)\n",
    "\n",
    "\n",
    "# 评估GBDT模型\n",
    "gbdt_preds = evaluate_model(gbdt_model, X_train, y_train, X_val, y_val, X_test, y_test, 'GBDT')\n"
   ]
  },
  {
   "cell_type": "markdown",
   "id": "b1e05589-8f2d-465f-a48c-aea58bedfcef",
   "metadata": {},
   "source": [
    "AdaBoost"
   ]
  },
  {
   "cell_type": "code",
   "execution_count": 10,
   "id": "88ebdf4c-c317-4cd3-a61a-67f643f5c571",
   "metadata": {},
   "outputs": [
    {
     "name": "stdout",
     "output_type": "stream",
     "text": [
      "AdaBoost Performance on Test Set:\n",
      "Mean Squared Error (MSE): 11472.034809348976\n",
      "Mean Absolute Percentage Error (MAPE): 19.477741470000613%\n",
      "Symmetric Mean Absolute Percentage Error (sMAPE): 17.34554073051887%\n",
      "Inference Time: 0.016278505325317383 seconds\n",
      "Throughput: 26538.063008040775 samples/second\n"
     ]
    }
   ],
   "source": [
    "# 定义模型和参数\n",
    "ada_model = AdaBoostRegressor(random_state=42,learning_rate= 0.1, n_estimators=200)\n",
    "\n",
    "\n",
    "# 评估AdaBoost模型\n",
    "ada_preds = evaluate_model(ada_model, X_train, y_train, X_val, y_val, X_test, y_test, 'AdaBoost' )\n"
   ]
  },
  {
   "cell_type": "markdown",
   "id": "fe9fc4bd-06a4-46a2-b285-deedd39d9976",
   "metadata": {},
   "source": [
    "SVM"
   ]
  },
  {
   "cell_type": "code",
   "execution_count": 11,
   "id": "ee55a8da-3304-4b5c-b8f8-6c31fd677887",
   "metadata": {},
   "outputs": [
    {
     "name": "stdout",
     "output_type": "stream",
     "text": [
      "SVM Performance on Test Set:\n",
      "Mean Squared Error (MSE): 37538.448841481884\n",
      "Mean Absolute Percentage Error (MAPE): 27.921595314701836%\n",
      "Symmetric Mean Absolute Percentage Error (sMAPE): 28.045033126567027%\n",
      "Inference Time: 0.02962040901184082 seconds\n",
      "Throughput: 14584.538647906824 samples/second\n"
     ]
    }
   ],
   "source": [
    "from sklearn.svm import SVR\n",
    "from sklearn.model_selection import GridSearchCV\n",
    "\n",
    "# 定义模型和参数（缩小网格）\n",
    "svm_model = SVR(C= 10, epsilon=0.1)\n",
    "\n",
    "\n",
    "# 评估SVM模型\n",
    "svm_preds = evaluate_model(svm_model, X_train, y_train, X_val, y_val, X_test, y_test, 'SVM')\n"
   ]
  },
  {
   "cell_type": "markdown",
   "id": "fe06c3b5-62b2-413a-95c1-118b08dbc911",
   "metadata": {},
   "source": [
    "神经网络"
   ]
  },
  {
   "cell_type": "code",
   "execution_count": 12,
   "id": "34ccb7a5-f43d-456e-8c86-6d42739e710c",
   "metadata": {},
   "outputs": [
    {
     "name": "stdout",
     "output_type": "stream",
     "text": [
      "NeuralNetwork Performance on Test Set:\n",
      "Mean Squared Error (MSE): 10316.19416151316\n",
      "Mean Absolute Percentage Error (MAPE): 13.249480432371008%\n",
      "Symmetric Mean Absolute Percentage Error (sMAPE): 13.61400441339137%\n",
      "Inference Time: 0.001003265380859375 seconds\n",
      "Throughput: 430593.94676806085 samples/second\n"
     ]
    }
   ],
   "source": [
    "# 定义模型和参数\n",
    "nn_model = MLPRegressor(random_state=42, hidden_layer_sizes=100, learning_rate_init= 0.01)\n",
    "nn_param_grid = [\n",
    "    {'hidden_layer_sizes': [(50, 50), (100,)], 'activation': ['relu', 'tanh'], 'learning_rate_init': [0.001, 0.01]}\n",
    "]\n",
    "\n",
    "# 评估神经网络模型\n",
    "nn_preds = evaluate_model(nn_model, X_train, y_train, X_val, y_val, X_test, y_test, 'NeuralNetwork')\n"
   ]
  },
  {
   "cell_type": "markdown",
   "id": "ba8d5579-fc40-420f-95e8-c02ffa710aff",
   "metadata": {},
   "source": [
    "决策树"
   ]
  },
  {
   "cell_type": "code",
   "execution_count": 13,
   "id": "f360959d-c573-4203-8adb-bed662f2e2ad",
   "metadata": {},
   "outputs": [
    {
     "name": "stdout",
     "output_type": "stream",
     "text": [
      "DecisionTree Performance on Test Set:\n",
      "Mean Squared Error (MSE): 8655.627742107341\n",
      "Mean Absolute Percentage Error (MAPE): 13.48259099073405%\n",
      "Symmetric Mean Absolute Percentage Error (sMAPE): 13.129731089009312%\n",
      "Inference Time: 0.0010058879852294922 seconds\n",
      "Throughput: 429471.27945010667 samples/second\n"
     ]
    }
   ],
   "source": [
    "# 定义模型和参数\n",
    "dt_model = DecisionTreeRegressor(random_state=42,max_depth= 10, min_samples_leaf= 4, min_samples_split= 2)\n",
    "dt_param_grid = [\n",
    "    {'max_depth': [10, 20], 'min_samples_split': [2, 5], 'min_samples_leaf': [1, 4]}\n",
    "]\n",
    "\n",
    "# 评估决策树模型\n",
    "dt_preds = evaluate_model(dt_model, X_train, y_train, X_val, y_val, X_test, y_test, 'DecisionTree')\n"
   ]
  },
  {
   "cell_type": "markdown",
   "id": "8e4df7f6-b7db-431f-b73f-c0f3f3977b18",
   "metadata": {},
   "source": [
    "线性回归"
   ]
  },
  {
   "cell_type": "code",
   "execution_count": 14,
   "id": "598bf5e5-78d4-4b0d-85b6-22de7248c2fe",
   "metadata": {},
   "outputs": [
    {
     "name": "stdout",
     "output_type": "stream",
     "text": [
      "LinearRegression Performance on Test Set:\n",
      "Mean Squared Error (MSE): 17120.459992005963\n",
      "Mean Absolute Percentage Error (MAPE): 19.77535267092906%\n",
      "Symmetric Mean Absolute Percentage Error (sMAPE): 18.945868177914118%\n",
      "Inference Time: 0.000997304916381836 seconds\n",
      "Throughput: 433167.42242409755 samples/second\n"
     ]
    }
   ],
   "source": [
    "# 定义线性回归模型\n",
    "lr_model = LinearRegression()\n",
    "\n",
    "# 评估线性回归模型\n",
    "lr_preds = evaluate_model(lr_model, X_train, y_train, X_val, y_val, X_test, y_test, 'LinearRegression')\n"
   ]
  },
  {
   "cell_type": "code",
   "execution_count": 15,
   "id": "300f4940-e92a-44fd-a269-f41e44b75d41",
   "metadata": {},
   "outputs": [
    {
     "name": "stdout",
     "output_type": "stream",
     "text": [
      "[LightGBM] [Warning] Found whitespace in feature_names, replace with underlines\n",
      "[LightGBM] [Info] Auto-choosing row-wise multi-threading, the overhead of testing was 0.000020 seconds.\n",
      "You can set `force_row_wise=true` to remove the overhead.\n",
      "And if memory is not enough, you can set `force_col_wise=true`.\n",
      "[LightGBM] [Info] Total Bins 30\n",
      "[LightGBM] [Info] Number of data points in the train set: 1296, number of used features: 6\n",
      "[LightGBM] [Info] Start training from score 455.633022\n",
      "[LightGBM] [Warning] No further splits with positive gain, best gain: -inf\n",
      "[LightGBM] [Warning] No further splits with positive gain, best gain: -inf\n",
      "[LightGBM] [Warning] No further splits with positive gain, best gain: -inf\n",
      "[LightGBM] [Warning] No further splits with positive gain, best gain: -inf\n",
      "[LightGBM] [Warning] No further splits with positive gain, best gain: -inf\n",
      "Attention_LightGBM Performance on Test Set:\n",
      "Mean Squared Error (MSE): 6305.598575875728\n",
      "Mean Absolute Percentage Error (MAPE): 9.752583511987629%\n",
      "Symmetric Mean Absolute Percentage Error (sMAPE): 9.640048801044303%\n",
      "Inference Time: 0.0020017623901367188 seconds\n",
      "Throughput: 215809.8294425917 samples/second\n"
     ]
    }
   ],
   "source": [
    "from lightgbm import LGBMRegressor\n",
    "from sklearn.base import BaseEstimator, RegressorMixin\n",
    "import numpy as np\n",
    "\n",
    "# Attention风格的LightGBM包装器（用于学习特征重要性）\n",
    "class AttentionLightGBM(BaseEstimator, RegressorMixin):\n",
    "    def __init__(self, **kwargs):\n",
    "        self.model = LGBMRegressor(**kwargs)\n",
    "        self.feature_importances_ = None\n",
    "\n",
    "    def fit(self, X, y):\n",
    "        self.model.fit(X, y)\n",
    "        self.feature_importances_ = self.model.feature_importances_\n",
    "        attention_weights = self.feature_importances_ / np.sum(self.feature_importances_)\n",
    "        self.attention_weights_ = attention_weights\n",
    "        return self\n",
    "\n",
    "    def predict(self, X):\n",
    "        return self.model.predict(X)\n",
    "\n",
    "# 实例化 Attention-LightGBM 模型\n",
    "attention_lgbm_model = AttentionLightGBM(\n",
    "    n_estimators=100,\n",
    "    learning_rate=0.1,\n",
    "    max_depth=7,\n",
    "    random_state=42\n",
    ")\n",
    "\n",
    "# 调用你原有的评估函数\n",
    "attention_lgbm_preds = evaluate_model(\n",
    "    attention_lgbm_model,\n",
    "    X_train, y_train,\n",
    "    X_val, y_val,\n",
    "    X_test, y_test,\n",
    "    'Attention_LightGBM'\n",
    ")\n"
   ]
  },
  {
   "cell_type": "code",
   "execution_count": 16,
   "id": "2b20b948-2df5-4422-9cae-18c4a4f607ee",
   "metadata": {
    "scrolled": true
   },
   "outputs": [
    {
     "name": "stdout",
     "output_type": "stream",
     "text": [
      "                               0          1          2         3\n",
      "RandomForest         7232.968442  11.553347  11.278412  0.008991\n",
      "XGBoost              6174.664628   9.917479   9.785413  0.004000\n",
      "LightGBM             6332.062296   9.817052   9.660965  0.001039\n",
      "GBDT                 6032.521844   9.838345   9.694713  0.003468\n",
      "AdaBoost            11472.034809  19.477741  17.345541  0.016279\n",
      "SVM                 37538.448841  27.921595  28.045033  0.029620\n",
      "NeuralNetwork       10316.194162  13.249480  13.614004  0.001003\n",
      "DecisionTree         8655.627742  13.482591  13.129731  0.001006\n",
      "LinearRegression    17120.459992  19.775353  18.945868  0.000997\n",
      "Attention_LightGBM   6305.598576   9.752584   9.640049  0.002002\n",
      "Adjusted Metrics (η):\n",
      "[[  8.44214706   9.02083347   8.98841511  46.75381177]\n",
      " [  7.20692027   7.74355076   7.798559    20.80110054]\n",
      " [  7.39063104   7.66513758   7.69937915   5.40330191]\n",
      " [  7.04101462   7.68176296   7.72627425  18.03621681]\n",
      " [ 13.38988352  15.2081876   13.82365937  84.65379634]\n",
      " [ 43.81397598  21.80113441  22.35070045 154.0362596 ]\n",
      " [ 12.04081408  10.34517192  10.84978339   5.21732318]\n",
      " [ 10.10264083  10.52718425  10.46383811   5.23096162]\n",
      " [ 19.98258974  15.44056193  15.09905239   5.18632673]\n",
      " [  7.35974323   7.61480072   7.68270952  10.4098492 ]]\n",
      "\n",
      "Comparison Matrix (ξ):\n",
      "[[0.11845328 0.1108545  0.11125432 0.02138863]\n",
      " [0.13875552 0.12913972 0.12822882 0.04807438]\n",
      " [0.13530644 0.1304608  0.1298806  0.18507202]\n",
      " [0.14202499 0.13017845 0.12942849 0.055444  ]\n",
      " [0.07468325 0.06575405 0.07233975 0.01181282]\n",
      " [0.02282377 0.04586917 0.04474133 0.00649198]\n",
      " [0.08305086 0.09666345 0.09216774 0.19166917]\n",
      " [0.09898402 0.09499216 0.09556723 0.19116944]\n",
      " [0.05004356 0.06476448 0.06622932 0.19281469]\n",
      " [0.13587431 0.1313232  0.13016241 0.09606287]]\n",
      "\n",
      "Normalized Matrix (φ):\n",
      "[[0.11845328 0.1108545  0.11125432 0.02138863]\n",
      " [0.13875552 0.12913972 0.12822882 0.04807438]\n",
      " [0.13530644 0.1304608  0.1298806  0.18507202]\n",
      " [0.14202499 0.13017845 0.12942849 0.055444  ]\n",
      " [0.07468325 0.06575405 0.07233975 0.01181282]\n",
      " [0.02282377 0.04586917 0.04474133 0.00649198]\n",
      " [0.08305086 0.09666345 0.09216774 0.19166917]\n",
      " [0.09898402 0.09499216 0.09556723 0.19116944]\n",
      " [0.05004356 0.06476448 0.06622932 0.19281469]\n",
      " [0.13587431 0.1313232  0.13016241 0.09606287]]\n",
      "\n",
      "综合成对比较矩阵：\n",
      "[[1.         0.5        0.41524365 2.78651802]\n",
      " [2.         1.         0.56097757 3.51948203]\n",
      " [2.40822469 1.78260246 1.         5.        ]\n",
      " [0.35887082 0.28413272 0.2        1.        ]]\n",
      "\n",
      "最终的指标权重：\n",
      "[0.18123698 0.29293864 0.44729441 0.07852997]\n",
      "\n",
      "每个模型的最终综合评分 Q_i:\n",
      "[0.10538476 0.12410896 0.13536811 0.12612113 0.06608209 0.03809572\n",
      " 0.09964624 0.10352566 0.0728075  0.12885982]\n"
     ]
    }
   ],
   "source": [
    "# 1. 从Excel中加载成对比较矩阵，并计算AHP权重\n",
    "\n",
    "metrics_results = {\n",
    "    'RandomForest': rf_preds[1:-1],  # RandomForest模型的评估结果\n",
    "    'XGBoost': xgb_preds[1:-1],  # XGBoost模型的评估结果\n",
    "    'LightGBM': lgbm_preds[1:-1],  # LightGBM模型的评估结果\n",
    "    'GBDT': gbdt_preds[1:-1],  # GBDT模型的评估结果\n",
    "    'AdaBoost': ada_preds[1:-1],  # AdaBoost模型的评估结果\n",
    "    'SVM': svm_preds[1:-1],  # SVM模型的评估结果\n",
    "    'NeuralNetwork': nn_preds[1:-1],  # Neural Network模型的评估结果\n",
    "    'DecisionTree': dt_preds[1:-1],  # 决策树模型的评估结果\n",
    "    'LinearRegression': lr_preds[1:-1],  # 线性回归模型的评估结果\n",
    "    'Attention_LightGBM': attention_lgbm_preds[1:-1]\n",
    "}\n",
    "df = pd.DataFrame(metrics_results)\n",
    "df = df.T\n",
    "print(df)\n",
    "#df.to_excel(r'D:\\疏散数据汇总\\matrix_output.xlsx')\n",
    "gamma_matrix=df.values\n",
    "\n",
    "# 定义负相关指标的列索引 (MSE, MAPE, sMAPE, Inference Time)\n",
    "negative_indices = [0, 1, 2, 3]  # MSE, MAPE, sMAPE, Inference Time 列\n",
    "\n",
    "# 对负相关指标进行反转处理\n",
    "adjusted_matrix = gamma_matrix.copy()\n",
    "adjusted_matrix[:, negative_indices] = 1 / adjusted_matrix[:, negative_indices]\n",
    "\n",
    "# 计算每列的 η 值\n",
    "eta = adjusted_matrix.sum(axis=0) / adjusted_matrix\n",
    "print(\"Adjusted Metrics (η):\")\n",
    "print(eta)\n",
    "\n",
    "# 计算比较矩阵 ξ\n",
    "comparison_matrix = np.array([\n",
    "    [adjusted_matrix[i, j] / adjusted_matrix[:, j].sum() for j in range(adjusted_matrix.shape[1])]\n",
    "    for i in range(adjusted_matrix.shape[0])\n",
    "])\n",
    "print(\"\\nComparison Matrix (ξ):\")\n",
    "print(comparison_matrix)\n",
    "\n",
    "# 计算归一化矩阵 φ\n",
    "normalized_matrix = np.array([\n",
    "    [comparison_matrix[i, j] / comparison_matrix[:, j].sum() for j in range(comparison_matrix.shape[1])]\n",
    "    for i in range(comparison_matrix.shape[0])\n",
    "])\n",
    "print(\"\\nNormalized Matrix (φ):\")\n",
    "print(normalized_matrix)\n",
    "#dt = pd.DataFrame(normalized_matrix)\n",
    "#dt.to_excel(r'D:\\疏散数据汇总\\指标权重结果\\对照组\\matrix_output1.xlsx')\n",
    "\n",
    "def read_expert_matrices(file_paths):\n",
    "    expert_matrices = []\n",
    "    for file_path in file_paths:\n",
    "        # 读取 Excel 文件并转换为 NumPy 数组\n",
    "        matrix = pd.read_excel(file_path, index_col=0).values\n",
    "        expert_matrices.append(matrix)\n",
    "    return expert_matrices\n",
    "\n",
    "# 设定5个专家Excel文件的路径\n",
    "file_paths = [\n",
    "    'D:\\疏散数据汇总\\指标权重结果\\场景1：精准预测场景\\expert1.xlsx',\n",
    "    'D:\\疏散数据汇总\\指标权重结果\\场景1：精准预测场景\\expert2.xlsx',\n",
    "    'D:\\疏散数据汇总\\指标权重结果\\场景1：精准预测场景\\expert3.xlsx',\n",
    "    'D:\\疏散数据汇总\\指标权重结果\\场景1：精准预测场景\\expert4.xlsx',\n",
    "    'D:\\疏散数据汇总\\指标权重结果\\场景1：精准预测场景\\expert5.xlsx'\n",
    "]\n",
    "\n",
    "# 读取成对比较矩阵\n",
    "expert_matrices = read_expert_matrices(file_paths)\n",
    "\n",
    "\n",
    "# 几何平均法计算权重\n",
    "def calculate_weights(matrix):\n",
    "    column_sums = matrix.sum(axis=0)\n",
    "    normalized_matrix_ = matrix / column_sums\n",
    "    row_geometric_mean = np.prod(normalized_matrix_, axis=1) ** (1 / normalized_matrix_.shape[1])\n",
    "    weights = row_geometric_mean / row_geometric_mean.sum()\n",
    "    return weights\n",
    "\n",
    "# 计算所有专家的成对比较矩阵的几何平均\n",
    "def parse_value(value):\n",
    "    try:\n",
    "        return float(value)\n",
    "    except ValueError:\n",
    "        try:\n",
    "            numerator, denominator = value.split('/')\n",
    "            return float(numerator) / float(denominator)\n",
    "        except ValueError:\n",
    "            raise ValueError(f\"无法解析数值: {value}\")\n",
    "\n",
    "# 定义矩阵转换函数\n",
    "def convert_matrix(matrix):\n",
    "    return [[parse_value(value) for value in row] for row in matrix]\n",
    "\n",
    "# 定义几何平均函数\n",
    "def geometric_mean_of_matrices(matrices):\n",
    "    matrices = [np.array(convert_matrix(matrix), dtype=float) for matrix in matrices]\n",
    "    product_matrix = np.ones_like(matrices[0], dtype=float)\n",
    "    for idx, matrix in enumerate(matrices):\n",
    "        product_matrix *= matrix\n",
    "    return product_matrix ** (1 / len(matrices))\n",
    "\n",
    "# 计算综合的成对比较矩阵\n",
    "combined_matrix = geometric_mean_of_matrices(expert_matrices)\n",
    "print(\"\\n综合成对比较矩阵：\")\n",
    "print(combined_matrix)\n",
    "\n",
    "# 计算综合成对比较矩阵的权重 (即最终权重)\n",
    "final_weights = calculate_weights(combined_matrix)\n",
    "print(\"\\n最终的指标权重：\")\n",
    "print(final_weights)\n",
    "\n",
    "# 归一化后的指标矩阵\n",
    "normalized_matrix #= gamma_matrix\n",
    "\n",
    "# 计算每个模型的最终综合评分 Q_i\n",
    "Q = final_weights @ normalized_matrix.T  # 注意：此处需要转置 normalized_matrix\n",
    "\n",
    "print(\"\\n每个模型的最终综合评分 Q_i:\")\n",
    "print(Q)\n",
    "\n"
   ]
  },
  {
   "cell_type": "code",
   "execution_count": null,
   "id": "f9c975c1-64cb-474d-8764-f236b1092612",
   "metadata": {},
   "outputs": [],
   "source": []
  },
  {
   "cell_type": "code",
   "execution_count": 2,
   "id": "2cb96688-519d-40cf-b980-abab2345fd93",
   "metadata": {},
   "outputs": [
    {
     "ename": "NameError",
     "evalue": "name 'y_test' is not defined",
     "output_type": "error",
     "traceback": [
      "\u001b[1;31m---------------------------------------------------------------------------\u001b[0m",
      "\u001b[1;31mNameError\u001b[0m                                 Traceback (most recent call last)",
      "Cell \u001b[1;32mIn[2], line 3\u001b[0m\n\u001b[0;32m      1\u001b[0m \u001b[38;5;66;03m# 创建一个 DataFrame 来保存仿真数据和模型预测数据\u001b[39;00m\n\u001b[0;32m      2\u001b[0m comparison_df \u001b[38;5;241m=\u001b[39m pd\u001b[38;5;241m.\u001b[39mDataFrame({\n\u001b[1;32m----> 3\u001b[0m     \u001b[38;5;124m'\u001b[39m\u001b[38;5;124mActual\u001b[39m\u001b[38;5;124m'\u001b[39m: y_test\n\u001b[0;32m      4\u001b[0m })\n\u001b[0;32m      6\u001b[0m \u001b[38;5;66;03m# 将索引重置，方便可视化\u001b[39;00m\n\u001b[0;32m      7\u001b[0m comparison_df\u001b[38;5;241m.\u001b[39mreset_index(drop\u001b[38;5;241m=\u001b[39m\u001b[38;5;28;01mTrue\u001b[39;00m, inplace\u001b[38;5;241m=\u001b[39m\u001b[38;5;28;01mTrue\u001b[39;00m)\n",
      "\u001b[1;31mNameError\u001b[0m: name 'y_test' is not defined"
     ]
    }
   ],
   "source": [
    "# 创建一个 DataFrame 来保存仿真数据和模型预测数据\n",
    "comparison_df = pd.DataFrame({\n",
    "    'Actual': y_test\n",
    "})\n",
    "\n",
    "# 将索引重置，方便可视化\n",
    "comparison_df.reset_index(drop=True, inplace=True)\n",
    "\n",
    "# 添加各模型的预测结果\n",
    "comparison_df['RandomForest Predictions'] = rf_preds\n",
    "comparison_df['XGBoost Predictions'] = xgb_preds\n",
    "comparison_df['LightGBM Predictions'] = lgbm_preds\n",
    "comparison_df['GBDT Predictions'] = gbdt_preds\n",
    "comparison_df['AdaBoost Predictions'] = ada_preds\n",
    "comparison_df['SVM Predictions'] = svm_preds\n",
    "comparison_df['NeuralNetwork Predictions'] = nn_preds\n",
    "comparison_df['DecisionTree Predictions'] = dt_preds\n",
    "comparison_df['LinearRegression Predictions'] = lr_preds\n",
    "\n",
    "# 可视化对比\n",
    "def plot_comparison(data, model_names):\n",
    "    plt.figure(figsize=(14, 8))\n",
    "    plt.plot(data['Actual'], label='Actual (Simulation)', color='black', linestyle='-', marker='o')\n",
    "\n",
    "    for model in model_names:\n",
    "        plt.plot(data[model], label=model)\n",
    "\n",
    "    plt.title('Comparison of Simulation Data vs Model Predictions')\n",
    "    plt.xlabel('Sample Index')\n",
    "    plt.ylabel('Evacuation Time')\n",
    "    plt.legend()\n",
    "    plt.tight_layout()\n",
    "    plt.show()\n",
    "\n",
    "# 绘制对比图\n",
    "plot_comparison(comparison_df, [f'{model_name} Predictions' for model_name in ['RandomForest', 'XGBoost', 'LightGBM', 'GBDT', 'AdaBoost', 'SVM', 'NeuralNetwork', 'DecisionTree', 'LinearRegression']])\n",
    "\n",
    "# 保存预测与仿真数据对比结果到 Excel\n",
    "comparison_df.to_excel(r'D:\\疏散数据汇总\\预测与仿真对比结果_多模型_验证集.xlsx', index=False)\n",
    "print(\"预测与仿真数据的对比结果已保存到 Excel 文件\")\n"
   ]
  },
  {
   "cell_type": "code",
   "execution_count": null,
   "id": "915db428-fa1f-4eda-9b26-d3c9665b6d7a",
   "metadata": {},
   "outputs": [],
   "source": []
  },
  {
   "cell_type": "code",
   "execution_count": null,
   "id": "bb97e763-21c6-47fc-b670-f1cebf0fa395",
   "metadata": {},
   "outputs": [],
   "source": []
  },
  {
   "cell_type": "code",
   "execution_count": null,
   "id": "b5cc0d5d-66e8-4b0d-9a10-2f3c410d83d7",
   "metadata": {},
   "outputs": [],
   "source": []
  },
  {
   "cell_type": "code",
   "execution_count": null,
   "id": "537948c0-fbf4-42ae-815b-16eaffb0e616",
   "metadata": {},
   "outputs": [],
   "source": []
  }
 ],
 "metadata": {
  "kernelspec": {
   "display_name": "Python 3 (ipykernel)",
   "language": "python",
   "name": "python3"
  },
  "language_info": {
   "codemirror_mode": {
    "name": "ipython",
    "version": 3
   },
   "file_extension": ".py",
   "mimetype": "text/x-python",
   "name": "python",
   "nbconvert_exporter": "python",
   "pygments_lexer": "ipython3",
   "version": "3.11.7"
  }
 },
 "nbformat": 4,
 "nbformat_minor": 5
}
